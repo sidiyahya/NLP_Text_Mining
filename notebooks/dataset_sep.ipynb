{
 "cells": [
  {
   "cell_type": "code",
   "execution_count": null,
   "metadata": {
    "collapsed": true
   },
   "outputs": [],
   "source": [
    "import ast\n",
    "import pandas as pd"
   ]
  },
  {
   "cell_type": "code",
   "execution_count": null,
   "outputs": [],
   "source": [
    "#---------------STARTING WITH R8----------------------------\n",
    "##------------BUILDING THE DATASET\n",
    "X_train = pd.read_csv('datasets/r8-train-all-terms.txt', sep=\"\\t\", header=None)\n",
    "X_test = pd.read_csv('datasets/r8-test-all-terms.txt', sep=\"\\t\", header=None)\n",
    "data_r8=pd.concat([X_train,X_test], ignore_index=True)\n",
    "data_r8.columns = [\"class\", \"text\"]\n",
    "classes_count = data_r8.groupby('class').count().sort_values(by=['text'],ascending=False)\n",
    "classes_count"
   ],
   "metadata": {
    "collapsed": false,
    "pycharm": {
     "name": "#%%\n"
    }
   }
  },
  {
   "cell_type": "code",
   "execution_count": null,
   "outputs": [],
   "source": [
    "#---------------STARTING WITH R52----------------------------\n",
    "##------------BUILDING THE DATASET\n",
    "X_train = pd.read_csv('datasets/r52-train-all-terms.txt', sep=\"\\t\", header=None)\n",
    "X_test = pd.read_csv('datasets/r52-test-all-terms.txt', sep=\"\\t\", header=None)\n",
    "data_r52=pd.concat([X_train,X_test], ignore_index=True)\n",
    "data_r52.columns = [\"class\", \"text\"]\n",
    "classes_count = data_r52.groupby('class').count().sort_values(by=['text'],ascending=False)\n",
    "classes_count"
   ],
   "metadata": {
    "collapsed": false,
    "pycharm": {
     "name": "#%%\n"
    }
   }
  },
  {
   "cell_type": "code",
   "execution_count": null,
   "outputs": [],
   "source": [
    "#---------------STARTING WITH R40----------------------------\n",
    "##------------BUILDING THE DATASET\n",
    "X_train = pd.read_csv('datasets/r40_texts.txt', header=None)\n",
    "X_labels = pd.read_csv('datasets/r40_labels.txt', header=None)\n",
    "data_r40=pd.concat([X_labels, X_train], axis=1, ignore_index=True)\n",
    "data_r40.columns = [\"class\", \"text\"]\n",
    "classes_count = data_r40.groupby('class').count().sort_values(by=['text'],ascending=False)\n",
    "classes_count"
   ],
   "metadata": {
    "collapsed": false,
    "pycharm": {
     "name": "#%%\n"
    }
   }
  },
  {
   "cell_type": "code",
   "execution_count": null,
   "outputs": [],
   "source": [
    " # ---------------Dataset CLASSIC4 & CLASSIC3----------------------------\n",
    "##------------BUILDING THE DATASET\n",
    "list_ = []\n",
    "with open(\"datasets/classic4.json\", 'r+') as g:\n",
    "    for x in g:\n",
    "        list_.append(ast.literal_eval(x))\n",
    "\n",
    "data = pd.DataFrame(list_)\n",
    "data.columns = [\"text\", \"class\"]\n",
    "classes_count = data.groupby('class').count().sort_values(by=['text'], ascending=False)\n",
    "\n",
    "# ---------------DATASET WEBKB STEMMED----------------------------\n",
    "##------------BUILDING THE DATASET\n",
    "X_train = pd.read_csv('datasets/webkb-train-stemmed.txt', sep=\"\\t\", header=None)\n",
    "X_test = pd.read_csv('datasets/webkb-test-stemmed.txt', sep=\"\\t\", header=None)\n",
    "data_webkb = pd.concat([X_test, X_train], ignore_index=True)\n",
    "data_webkb.columns = [\"class\", \"text\"]\n",
    "classes_count = data_webkb.groupby('class').count().sort_values(by=['text'], ascending=False)\n",
    "classes_count"
   ],
   "metadata": {
    "collapsed": false,
    "pycharm": {
     "name": "#%%\n"
    }
   }
  },
  {
   "cell_type": "code",
   "execution_count": null,
   "outputs": [],
   "source": [],
   "metadata": {
    "collapsed": false,
    "pycharm": {
     "name": "#%%\n"
    }
   }
  },
  {
   "cell_type": "code",
   "execution_count": null,
   "outputs": [],
   "source": [
    "#====>\n",
    "#---------------DATASET NG20----------------------------\n",
    "##------------BUILDING THE DATASET\n",
    "from sklearn.datasets import fetch_20newsgroups\n",
    "ng20 = fetch_20newsgroups()\n",
    "data_ng20 = ng20.data\n",
    "labels_ng20 = ng20.target\n",
    "\n",
    "pd.DataFrame([data_ng20, labels_ng20])\n",
    "categories = ['alt.atheism', 'talk.religion.misc', 'comp.graphics', 'sci.space']"
   ],
   "metadata": {
    "collapsed": false,
    "pycharm": {
     "name": "#%%\n"
    }
   }
  }
 ],
 "metadata": {
  "kernelspec": {
   "display_name": "Python 3",
   "language": "python",
   "name": "python3"
  },
  "language_info": {
   "codemirror_mode": {
    "name": "ipython",
    "version": 2
   },
   "file_extension": ".py",
   "mimetype": "text/x-python",
   "name": "python",
   "nbconvert_exporter": "python",
   "pygments_lexer": "ipython2",
   "version": "2.7.6"
  }
 },
 "nbformat": 4,
 "nbformat_minor": 0
}