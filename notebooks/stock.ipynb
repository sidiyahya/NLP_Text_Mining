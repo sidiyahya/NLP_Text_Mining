{
 "cells": [
  {
   "cell_type": "code",
   "execution_count": null,
   "metadata": {
    "collapsed": true
   },
   "outputs": [],
   "source": []
  },
  {
   "cell_type": "code",
   "execution_count": null,
   "outputs": [],
   "source": [
    "documents1 = tfidf_matrix[0].todense())\n",
    "documents2 = list(tfidf_matrix[1].todense())"
   ],
   "metadata": {
    "collapsed": false,
    "pycharm": {
     "name": "#%%\n"
    }
   }
  },
  {
   "cell_type": "code",
   "execution_count": null,
   "outputs": [],
   "source": [
    "CosineSimilarity(documents1,documents2)"
   ],
   "metadata": {
    "collapsed": false,
    "pycharm": {
     "name": "#%%\n"
    }
   }
  },
  {
   "cell_type": "code",
   "execution_count": null,
   "outputs": [],
   "source": [
    "evaluation_matrix = np.empty((10, 4))"
   ],
   "metadata": {
    "collapsed": false,
    "pycharm": {
     "name": "#%%\n"
    }
   }
  },
  {
   "cell_type": "code",
   "execution_count": null,
   "outputs": [],
   "source": [
    "text = data_r8.text\n",
    "#df to a list\n",
    "rows = text.apply(''.join).tolist()\n",
    "# list of words for each document\n",
    "words = []\n",
    "for sublist in rows:\n",
    "    w = sublist.split()\n",
    "    words.append(w)\n",
    "# list that regroups all the words\n",
    "words_flat = []\n",
    "for sublist in words:\n",
    "    for item in sublist:\n",
    "        words_flat.append(item)\n",
    "#remove duplicates\n",
    "def remove_duplicates(l):\n",
    "    return list(set(l))\n",
    "vocabulary = remove_duplicates(words_flat)\n",
    "import gensim, logging\n",
    "# train word2vec on the two sentences\n",
    "model = gensim.'models'.Word2Vec(words, min_count=1)\n",
    "#model_pretrained = models.KeyedVectors.load_word2vec_format('models_word2vec/GoogleNews-vectors-negative300.bin.gz', binary=True,limit = 1000000)"
   ],
   "metadata": {
    "collapsed": false,
    "pycharm": {
     "name": "#%%\n"
    }
   }
  }
 ],
 "metadata": {
  "kernelspec": {
   "display_name": "Python 3",
   "language": "python",
   "name": "python3"
  },
  "language_info": {
   "codemirror_mode": {
    "name": "ipython",
    "version": 2
   },
   "file_extension": ".py",
   "mimetype": "text/x-python",
   "name": "python",
   "nbconvert_exporter": "python",
   "pygments_lexer": "ipython2",
   "version": "2.7.6"
  }
 },
 "nbformat": 4,
 "nbformat_minor": 0
}