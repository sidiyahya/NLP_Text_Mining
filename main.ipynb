{
 "cells": [
  {
   "cell_type": "code",
   "execution_count": 28,
   "outputs": [
    {
     "ename": "ImportError",
     "evalue": "cannot import name 'open' from 'smart_open' (/home/mohamedali/anaconda3/lib/python3.7/site-packages/smart_open/__init__.py)",
     "output_type": "error",
     "traceback": [
      "\u001B[0;31m---------------------------------------------------------------------------\u001B[0m",
      "\u001B[0;31mImportError\u001B[0m                               Traceback (most recent call last)",
      "\u001B[0;32m<ipython-input-28-b2fb4d833f34>\u001B[0m in \u001B[0;36m<module>\u001B[0;34m\u001B[0m\n\u001B[0;32m----> 1\u001B[0;31m \u001B[0;32mfrom\u001B[0m \u001B[0mgensim\u001B[0m\u001B[0;34m.\u001B[0m\u001B[0mmodels\u001B[0m \u001B[0;32mimport\u001B[0m \u001B[0mWord2Vec\u001B[0m\u001B[0;34m\u001B[0m\u001B[0;34m\u001B[0m\u001B[0m\n\u001B[0m\u001B[1;32m      2\u001B[0m \u001B[0;32mimport\u001B[0m \u001B[0mpandas\u001B[0m \u001B[0;32mas\u001B[0m \u001B[0mpd\u001B[0m\u001B[0;34m\u001B[0m\u001B[0;34m\u001B[0m\u001B[0m\n\u001B[1;32m      3\u001B[0m \u001B[0;32mimport\u001B[0m \u001B[0mnumpy\u001B[0m \u001B[0;32mas\u001B[0m \u001B[0mnp\u001B[0m\u001B[0;34m\u001B[0m\u001B[0;34m\u001B[0m\u001B[0m\n\u001B[1;32m      4\u001B[0m \u001B[0;32mfrom\u001B[0m \u001B[0mkeras\u001B[0m\u001B[0;34m.\u001B[0m\u001B[0mmetrics\u001B[0m \u001B[0;32mimport\u001B[0m \u001B[0mCosineSimilarity\u001B[0m\u001B[0;34m\u001B[0m\u001B[0;34m\u001B[0m\u001B[0m\n\u001B[1;32m      5\u001B[0m \u001B[0;32mfrom\u001B[0m \u001B[0msklearn\u001B[0m\u001B[0;34m.\u001B[0m\u001B[0mfeature_extraction\u001B[0m\u001B[0;34m.\u001B[0m\u001B[0mtext\u001B[0m \u001B[0;32mimport\u001B[0m \u001B[0mTfidfVectorizer\u001B[0m\u001B[0;34m\u001B[0m\u001B[0;34m\u001B[0m\u001B[0m\n",
      "\u001B[0;32m~/anaconda3/lib/python3.7/site-packages/gensim/__init__.py\u001B[0m in \u001B[0;36m<module>\u001B[0;34m\u001B[0m\n\u001B[1;32m      3\u001B[0m \"\"\"\n\u001B[1;32m      4\u001B[0m \u001B[0;34m\u001B[0m\u001B[0m\n\u001B[0;32m----> 5\u001B[0;31m \u001B[0;32mfrom\u001B[0m \u001B[0mgensim\u001B[0m \u001B[0;32mimport\u001B[0m \u001B[0mparsing\u001B[0m\u001B[0;34m,\u001B[0m \u001B[0mcorpora\u001B[0m\u001B[0;34m,\u001B[0m \u001B[0mmatutils\u001B[0m\u001B[0;34m,\u001B[0m \u001B[0minterfaces\u001B[0m\u001B[0;34m,\u001B[0m \u001B[0mmodels\u001B[0m\u001B[0;34m,\u001B[0m \u001B[0msimilarities\u001B[0m\u001B[0;34m,\u001B[0m \u001B[0msummarization\u001B[0m\u001B[0;34m,\u001B[0m \u001B[0mutils\u001B[0m  \u001B[0;31m# noqa:F401\u001B[0m\u001B[0;34m\u001B[0m\u001B[0;34m\u001B[0m\u001B[0m\n\u001B[0m\u001B[1;32m      6\u001B[0m \u001B[0;32mimport\u001B[0m \u001B[0mlogging\u001B[0m\u001B[0;34m\u001B[0m\u001B[0;34m\u001B[0m\u001B[0m\n\u001B[1;32m      7\u001B[0m \u001B[0;34m\u001B[0m\u001B[0m\n",
      "\u001B[0;32m~/anaconda3/lib/python3.7/site-packages/gensim/parsing/__init__.py\u001B[0m in \u001B[0;36m<module>\u001B[0;34m\u001B[0m\n\u001B[1;32m      2\u001B[0m \u001B[0;34m\u001B[0m\u001B[0m\n\u001B[1;32m      3\u001B[0m \u001B[0;32mfrom\u001B[0m \u001B[0;34m.\u001B[0m\u001B[0mporter\u001B[0m \u001B[0;32mimport\u001B[0m \u001B[0mPorterStemmer\u001B[0m  \u001B[0;31m# noqa:F401\u001B[0m\u001B[0;34m\u001B[0m\u001B[0;34m\u001B[0m\u001B[0m\n\u001B[0;32m----> 4\u001B[0;31m from .preprocessing import (remove_stopwords, strip_punctuation, strip_punctuation2,  # noqa:F401\n\u001B[0m\u001B[1;32m      5\u001B[0m                             \u001B[0mstrip_tags\u001B[0m\u001B[0;34m,\u001B[0m \u001B[0mstrip_short\u001B[0m\u001B[0;34m,\u001B[0m \u001B[0mstrip_numeric\u001B[0m\u001B[0;34m,\u001B[0m\u001B[0;34m\u001B[0m\u001B[0;34m\u001B[0m\u001B[0m\n\u001B[1;32m      6\u001B[0m                             \u001B[0mstrip_non_alphanum\u001B[0m\u001B[0;34m,\u001B[0m \u001B[0mstrip_multiple_whitespaces\u001B[0m\u001B[0;34m,\u001B[0m\u001B[0;34m\u001B[0m\u001B[0;34m\u001B[0m\u001B[0m\n",
      "\u001B[0;32m~/anaconda3/lib/python3.7/site-packages/gensim/parsing/preprocessing.py\u001B[0m in \u001B[0;36m<module>\u001B[0;34m\u001B[0m\n\u001B[1;32m     40\u001B[0m \u001B[0;32mimport\u001B[0m \u001B[0mglob\u001B[0m\u001B[0;34m\u001B[0m\u001B[0;34m\u001B[0m\u001B[0m\n\u001B[1;32m     41\u001B[0m \u001B[0;34m\u001B[0m\u001B[0m\n\u001B[0;32m---> 42\u001B[0;31m \u001B[0;32mfrom\u001B[0m \u001B[0mgensim\u001B[0m \u001B[0;32mimport\u001B[0m \u001B[0mutils\u001B[0m\u001B[0;34m\u001B[0m\u001B[0;34m\u001B[0m\u001B[0m\n\u001B[0m\u001B[1;32m     43\u001B[0m \u001B[0;32mfrom\u001B[0m \u001B[0mgensim\u001B[0m\u001B[0;34m.\u001B[0m\u001B[0mparsing\u001B[0m\u001B[0;34m.\u001B[0m\u001B[0mporter\u001B[0m \u001B[0;32mimport\u001B[0m \u001B[0mPorterStemmer\u001B[0m\u001B[0;34m\u001B[0m\u001B[0;34m\u001B[0m\u001B[0m\n\u001B[1;32m     44\u001B[0m \u001B[0;34m\u001B[0m\u001B[0m\n",
      "\u001B[0;32m~/anaconda3/lib/python3.7/site-packages/gensim/utils.py\u001B[0m in \u001B[0;36m<module>\u001B[0;34m\u001B[0m\n\u001B[1;32m     43\u001B[0m \u001B[0;32mfrom\u001B[0m \u001B[0msix\u001B[0m\u001B[0;34m.\u001B[0m\u001B[0mmoves\u001B[0m \u001B[0;32mimport\u001B[0m \u001B[0mrange\u001B[0m\u001B[0;34m\u001B[0m\u001B[0;34m\u001B[0m\u001B[0m\n\u001B[1;32m     44\u001B[0m \u001B[0;34m\u001B[0m\u001B[0m\n\u001B[0;32m---> 45\u001B[0;31m \u001B[0;32mfrom\u001B[0m \u001B[0msmart_open\u001B[0m \u001B[0;32mimport\u001B[0m \u001B[0mopen\u001B[0m\u001B[0;34m\u001B[0m\u001B[0;34m\u001B[0m\u001B[0m\n\u001B[0m\u001B[1;32m     46\u001B[0m \u001B[0;34m\u001B[0m\u001B[0m\n\u001B[1;32m     47\u001B[0m \u001B[0;32mfrom\u001B[0m \u001B[0mmultiprocessing\u001B[0m \u001B[0;32mimport\u001B[0m \u001B[0mcpu_count\u001B[0m\u001B[0;34m\u001B[0m\u001B[0;34m\u001B[0m\u001B[0m\n",
      "\u001B[0;31mImportError\u001B[0m: cannot import name 'open' from 'smart_open' (/home/mohamedali/anaconda3/lib/python3.7/site-packages/smart_open/__init__.py)"
     ]
    }
   ],
   "source": [
    "#from gensim.models import Word2Vec\n",
    "import pandas as pd\n",
    "import numpy as np\n",
    "from keras.metrics import CosineSimilarity\n",
    "from sklearn.feature_extraction.text import TfidfVectorizer\n",
    "from build_dataset import get_datasets_built\n",
    "import time\n",
    "import get_labels\n",
    "import importlib\n",
    "from execute_coclustring import execute_clustering_evaluation\n",
    "from nlp_preprocessing import nlp_prep, processCorpus\n",
    "#importlib.reload(get_labels)\n",
    "#%reload_ext autoreload\n",
    "#%autoreload 2"
   ],
   "metadata": {
    "collapsed": false,
    "pycharm": {
     "name": "#%%\n"
    }
   }
  },
  {
   "cell_type": "code",
   "execution_count": 18,
   "outputs": [
    {
     "name": "stderr",
     "output_type": "stream",
     "text": [
      "[autoreload of smart_open failed: Traceback (most recent call last):\n",
      "  File \"/home/mohamedali/anaconda3/lib/python3.7/site-packages/IPython/extensions/autoreload.py\", line 245, in check\n",
      "    superreload(m, reload, self.old_objects)\n",
      "  File \"/home/mohamedali/anaconda3/lib/python3.7/site-packages/IPython/extensions/autoreload.py\", line 394, in superreload\n",
      "    module = reload(module)\n",
      "  File \"/home/mohamedali/anaconda3/lib/python3.7/imp.py\", line 314, in reload\n",
      "    return importlib.reload(module)\n",
      "  File \"/home/mohamedali/anaconda3/lib/python3.7/importlib/__init__.py\", line 169, in reload\n",
      "    _bootstrap._exec(spec, module)\n",
      "  File \"<frozen importlib._bootstrap>\", line 630, in _exec\n",
      "  File \"<frozen importlib._bootstrap_external>\", line 728, in exec_module\n",
      "  File \"<frozen importlib._bootstrap>\", line 219, in _call_with_frames_removed\n",
      "  File \"/home/mohamedali/anaconda3/lib/python3.7/site-packages/smart_open/__init__.py\", line 28, in <module>\n",
      "    from .smart_open_lib import open, parse_uri, smart_open, register_compressor\n",
      "ImportError: cannot import name 'open' from 'smart_open.smart_open_lib' (/home/mohamedali/anaconda3/lib/python3.7/site-packages/smart_open/smart_open_lib.py)\n",
      "]\n",
      "[autoreload of smart_open.smart_open_lib failed: Traceback (most recent call last):\n",
      "  File \"/home/mohamedali/anaconda3/lib/python3.7/site-packages/IPython/extensions/autoreload.py\", line 245, in check\n",
      "    superreload(m, reload, self.old_objects)\n",
      "  File \"/home/mohamedali/anaconda3/lib/python3.7/site-packages/IPython/extensions/autoreload.py\", line 394, in superreload\n",
      "    module = reload(module)\n",
      "  File \"/home/mohamedali/anaconda3/lib/python3.7/imp.py\", line 314, in reload\n",
      "    return importlib.reload(module)\n",
      "  File \"/home/mohamedali/anaconda3/lib/python3.7/importlib/__init__.py\", line 169, in reload\n",
      "    _bootstrap._exec(spec, module)\n",
      "  File \"<frozen importlib._bootstrap>\", line 630, in _exec\n",
      "  File \"<frozen importlib._bootstrap_external>\", line 728, in exec_module\n",
      "  File \"<frozen importlib._bootstrap>\", line 219, in _call_with_frames_removed\n",
      "  File \"/home/mohamedali/anaconda3/lib/python3.7/site-packages/smart_open/smart_open_lib.py\", line 37, in <module>\n",
      "    from smart_open import doctools\n",
      "  File \"/home/mohamedali/anaconda3/lib/python3.7/site-packages/smart_open/doctools.py\", line 21, in <module>\n",
      "    from . import transport\n",
      "  File \"/home/mohamedali/anaconda3/lib/python3.7/site-packages/smart_open/transport.py\", line 82, in <module>\n",
      "    register_transport('smart_open.gcs')\n",
      "pkg_resources.ContextualVersionConflict: (google-auth 1.11.2 (/home/mohamedali/anaconda3/lib/python3.7/site-packages), Requirement.parse('google-auth<2.0dev,>=1.14.0'), {'google-api-core'})\n",
      "]\n"
     ]
    },
    {
     "ename": "AttributeError",
     "evalue": "module 'smart_open' has no attribute '__version__'",
     "output_type": "error",
     "traceback": [
      "\u001B[0;31m---------------------------------------------------------------------------\u001B[0m",
      "\u001B[0;31mAttributeError\u001B[0m                            Traceback (most recent call last)",
      "\u001B[0;32m<ipython-input-18-e9d23097a45b>\u001B[0m in \u001B[0;36m<module>\u001B[0;34m\u001B[0m\n\u001B[1;32m      1\u001B[0m \u001B[0;32mimport\u001B[0m \u001B[0msmart_open\u001B[0m\u001B[0;34m\u001B[0m\u001B[0;34m\u001B[0m\u001B[0m\n\u001B[1;32m      2\u001B[0m \u001B[0;34m\u001B[0m\u001B[0m\n\u001B[0;32m----> 3\u001B[0;31m \u001B[0msmart_open\u001B[0m\u001B[0;34m.\u001B[0m\u001B[0m__version__\u001B[0m\u001B[0;34m\u001B[0m\u001B[0;34m\u001B[0m\u001B[0m\n\u001B[0m",
      "\u001B[0;31mAttributeError\u001B[0m: module 'smart_open' has no attribute '__version__'"
     ]
    }
   ],
   "source": [],
   "metadata": {
    "collapsed": false,
    "pycharm": {
     "name": "#%%\n"
    }
   }
  },
  {
   "cell_type": "code",
   "execution_count": null,
   "outputs": [],
   "source": [],
   "metadata": {
    "collapsed": false,
    "pycharm": {
     "name": "#%%\n"
    }
   }
  },
  {
   "cell_type": "markdown",
   "source": [
    "# Load Data"
   ],
   "metadata": {
    "collapsed": false
   }
  },
  {
   "cell_type": "code",
   "execution_count": null,
   "outputs": [],
   "source": [
    "#Test pipeline\n",
    "data, classes_count, stemmed = get_datasets_built('r8')\n",
    "###-----------True labels list\n",
    "true_labels = get_labels.get_true_labels(data['class'])"
   ],
   "metadata": {
    "collapsed": false,
    "pycharm": {
     "name": "#%%\n"
    }
   }
  },
  {
   "cell_type": "code",
   "execution_count": 43,
   "outputs": [
    {
     "name": "stdout",
     "output_type": "stream",
     "text": [
      "first preprocessing:  853\n",
      "original:  1346\n"
     ]
    }
   ],
   "source": [
    "#Test preprocessing\n",
    "print(\"first preprocessing: \", len(nlp_prep(data.iloc[5][\"text\"])))\n",
    "print(\"original: \", len(data.iloc[5][\"text\"]))"
   ],
   "metadata": {
    "collapsed": false,
    "pycharm": {
     "name": "#%%\n"
    }
   }
  },
  {
   "cell_type": "code",
   "execution_count": 45,
   "outputs": [
    {
     "ename": "TypeError",
     "evalue": "'RangeIndex' object is not callable",
     "output_type": "error",
     "traceback": [
      "\u001B[0;31m---------------------------------------------------------------------------\u001B[0m",
      "\u001B[0;31mTypeError\u001B[0m                                 Traceback (most recent call last)",
      "\u001B[0;32m<ipython-input-45-40d2df15fce9>\u001B[0m in \u001B[0;36m<module>\u001B[0;34m\u001B[0m\n\u001B[0;32m----> 1\u001B[0;31m \u001B[0mprocessCorpus\u001B[0m\u001B[0;34m(\u001B[0m\u001B[0mdata\u001B[0m\u001B[0;34m[\u001B[0m\u001B[0;34m'text'\u001B[0m\u001B[0;34m]\u001B[0m\u001B[0;34m,\u001B[0m \u001B[0;34m'english'\u001B[0m\u001B[0;34m)\u001B[0m\u001B[0;34m\u001B[0m\u001B[0;34m\u001B[0m\u001B[0m\n\u001B[0m",
      "\u001B[0;32m~/PycharmProjects/Text_Mining_coclustering_evaluation/nlp_preprocessing.py\u001B[0m in \u001B[0;36mprocessCorpus\u001B[0;34m(corpus, language)\u001B[0m\n\u001B[1;32m     51\u001B[0m \u001B[0;34m\u001B[0m\u001B[0m\n\u001B[1;32m     52\u001B[0m     \u001B[0;32mfor\u001B[0m \u001B[0mdocument\u001B[0m \u001B[0;32min\u001B[0m \u001B[0mcorpus\u001B[0m\u001B[0;34m:\u001B[0m\u001B[0;34m\u001B[0m\u001B[0;34m\u001B[0m\u001B[0m\n\u001B[0;32m---> 53\u001B[0;31m         \u001B[0mindex\u001B[0m \u001B[0;34m=\u001B[0m \u001B[0mcorpus\u001B[0m\u001B[0;34m.\u001B[0m\u001B[0mindex\u001B[0m\u001B[0;34m(\u001B[0m\u001B[0mdocument\u001B[0m\u001B[0;34m)\u001B[0m\u001B[0;34m\u001B[0m\u001B[0;34m\u001B[0m\u001B[0m\n\u001B[0m\u001B[1;32m     54\u001B[0m         \u001B[0mcorpus\u001B[0m\u001B[0;34m[\u001B[0m\u001B[0mindex\u001B[0m\u001B[0;34m]\u001B[0m \u001B[0;34m=\u001B[0m \u001B[0mcorpus\u001B[0m\u001B[0;34m[\u001B[0m\u001B[0mindex\u001B[0m\u001B[0;34m]\u001B[0m\u001B[0;34m.\u001B[0m\u001B[0mreplace\u001B[0m\u001B[0;34m(\u001B[0m\u001B[0;34mu'\\ufffd'\u001B[0m\u001B[0;34m,\u001B[0m \u001B[0;34m'8'\u001B[0m\u001B[0;34m)\u001B[0m  \u001B[0;31m# Replaces the ASCII '�' symbol with '8'\u001B[0m\u001B[0;34m\u001B[0m\u001B[0;34m\u001B[0m\u001B[0m\n\u001B[1;32m     55\u001B[0m         \u001B[0mcorpus\u001B[0m\u001B[0;34m[\u001B[0m\u001B[0mindex\u001B[0m\u001B[0;34m]\u001B[0m \u001B[0;34m=\u001B[0m \u001B[0mcorpus\u001B[0m\u001B[0;34m[\u001B[0m\u001B[0mindex\u001B[0m\u001B[0;34m]\u001B[0m\u001B[0;34m.\u001B[0m\u001B[0mreplace\u001B[0m\u001B[0;34m(\u001B[0m\u001B[0;34m','\u001B[0m\u001B[0;34m,\u001B[0m \u001B[0;34m''\u001B[0m\u001B[0;34m)\u001B[0m  \u001B[0;31m# Removes commas\u001B[0m\u001B[0;34m\u001B[0m\u001B[0;34m\u001B[0m\u001B[0m\n",
      "\u001B[0;31mTypeError\u001B[0m: 'RangeIndex' object is not callable"
     ]
    }
   ],
   "source": [
    "print(\"second preprocessing: \", len(nlp_prep(data.iloc[5][\"text\"])))\n",
    "processCorpus(data['text'], 'english')"
   ],
   "metadata": {
    "collapsed": false,
    "pycharm": {
     "name": "#%%\n"
    }
   }
  },
  {
   "cell_type": "code",
   "execution_count": 3,
   "outputs": [
    {
     "name": "stdout",
     "output_type": "stream",
     "text": [
      "preprocessing finished\n",
      "---executing  CoclustMod\n",
      "NMI : 0.4014716628368187\n",
      "ARI : 0.356937446123862\n",
      "Accuracy : 0.5367474589523065\n",
      "---executing  CoclustInfo\n",
      "NMI : 0.4371028626085846\n",
      "ARI : 0.26199985998446423\n",
      "Accuracy : 0.3845452176179307\n",
      "---executing  CoclustModFuzzy\n",
      "NMI : 0.47741341735572457\n",
      "ARI : 0.34930106838744357\n",
      "Accuracy : 0.6215793588741204\n"
     ]
    },
    {
     "name": "stderr",
     "output_type": "stream",
     "text": [
      "/home/mohamedali/anaconda3/lib/python3.7/site-packages/coclust/coclustering/coclust_mod.py:97: FutureWarning: 'warn_on_dtype' is deprecated in version 0.21 and will be removed in 0.23. Don't set `warn_on_dtype` to remove this warning.\n",
      "  warn_on_dtype=False, estimator=None)\n",
      "/home/mohamedali/anaconda3/lib/python3.7/site-packages/sklearn/utils/linear_assignment_.py:128: FutureWarning: The linear_assignment function is deprecated in 0.21 and will be removed from 0.23. Use scipy.optimize.linear_sum_assignment instead.\n",
      "  FutureWarning)\n",
      "/home/mohamedali/anaconda3/lib/python3.7/site-packages/coclust/coclustering/coclust_info.py:97: FutureWarning: 'warn_on_dtype' is deprecated in version 0.21 and will be removed in 0.23. Don't set `warn_on_dtype` to remove this warning.\n",
      "  warn_on_dtype=False, estimator=None)\n",
      "/home/mohamedali/anaconda3/lib/python3.7/site-packages/sklearn/utils/linear_assignment_.py:128: FutureWarning: The linear_assignment function is deprecated in 0.21 and will be removed from 0.23. Use scipy.optimize.linear_sum_assignment instead.\n",
      "  FutureWarning)\n",
      "/home/mohamedali/anaconda3/lib/python3.7/site-packages/coclust/coclustering/coclust_spec_mod.py:87: FutureWarning: 'warn_on_dtype' is deprecated in version 0.21 and will be removed in 0.23. Don't set `warn_on_dtype` to remove this warning.\n",
      "  warn_on_dtype=False, estimator=None)\n",
      "/home/mohamedali/anaconda3/lib/python3.7/site-packages/sklearn/utils/linear_assignment_.py:128: FutureWarning: The linear_assignment function is deprecated in 0.21 and will be removed from 0.23. Use scipy.optimize.linear_sum_assignment instead.\n",
      "  FutureWarning)\n"
     ]
    }
   ],
   "source": [
    "##------------CO-CLUSTERING START FROM HERE-------------##\n",
    "datasets = ['r8']#[\"classic3\", \"classic4\", \"r8\", \"r40\", \"r52\", \"webkb\"]#\"ng5\", \"ng20\"\n",
    "thresh = [0.85, 0.7, 0.45]\n",
    "evaluation_matrix = np.empty((0, 5))\n",
    "evaluation_list = []\n",
    "for data_set in datasets:\n",
    "    data, classes_count, stemmed = get_datasets_built(data_set)\n",
    "    ###-----------True labels list\n",
    "    true_labels = get_labels.get_true_labels(data['class'])\n",
    "    ###-----------Executing the preprocessing\n",
    "    data_processed = data\n",
    "    for index ,row in data_processed.iterrows():\n",
    "        print(index, end=\"\\r\")\n",
    "        row['text'] = nlp_prep(row['text'])\n",
    "    print(\"preprocessing finished\")\n",
    "    ###----------Executing the coclustering\n",
    "    evaluation_list = execute_clustering_evaluation(data_processed['text'], true_labels, use_words_thresh=True, max_iteration=100)\n",
    "    evaluation_array = np.array(evaluation_list)\n",
    "    evaluation_datasetname = np.array([[data_set]] * len(evaluation_array))\n",
    "    evaluation_array = np.concatenate( (evaluation_array, evaluation_datasetname), axis=1)\n",
    "    evaluation_matrix = np.append(evaluation_matrix, evaluation_array, axis=0)"
   ],
   "metadata": {
    "collapsed": false,
    "pycharm": {
     "name": "#%%\n"
    }
   }
  },
  {
   "cell_type": "code",
   "execution_count": 8,
   "outputs": [],
   "source": [
    "evaluation_df = pd.DataFrame(evaluation_matrix, columns=[ \"method\", \"nmi\", \"ari\", \"acc\", \"dataset\"])"
   ],
   "metadata": {
    "collapsed": false,
    "pycharm": {
     "name": "#%%\n"
    }
   }
  },
  {
   "cell_type": "code",
   "execution_count": 90,
   "outputs": [
    {
     "name": "stdout",
     "output_type": "stream",
     "text": [
      "---executing  CoclustInfo\n",
      "NMI : 0.4173487731492575\n",
      "ARI : 0.2573006538465157\n",
      "Accuracy : 0.40474328902788637\n",
      "---executing  CoclustMod\n",
      "NMI : 0.4226733813737461\n",
      "ARI : 0.318515137141091\n",
      "Accuracy : 0.4756320041699244\n",
      "---executing  CoclustModFuzzy\n",
      "NMI : 0.47719071468224405\n",
      "ARI : 0.34927249797899385\n",
      "Accuracy : 0.6215793588741204\n"
     ]
    },
    {
     "name": "stderr",
     "output_type": "stream",
     "text": [
      "/home/mohamedali/anaconda3/lib/python3.7/site-packages/coclust/coclustering/coclust_info.py:97: FutureWarning: 'warn_on_dtype' is deprecated in version 0.21 and will be removed in 0.23. Don't set `warn_on_dtype` to remove this warning.\n",
      "  warn_on_dtype=False, estimator=None)\n",
      "/home/mohamedali/anaconda3/lib/python3.7/site-packages/sklearn/utils/linear_assignment_.py:128: FutureWarning: The linear_assignment function is deprecated in 0.21 and will be removed from 0.23. Use scipy.optimize.linear_sum_assignment instead.\n",
      "  FutureWarning)\n",
      "/home/mohamedali/anaconda3/lib/python3.7/site-packages/coclust/coclustering/coclust_mod.py:97: FutureWarning: 'warn_on_dtype' is deprecated in version 0.21 and will be removed in 0.23. Don't set `warn_on_dtype` to remove this warning.\n",
      "  warn_on_dtype=False, estimator=None)\n",
      "/home/mohamedali/anaconda3/lib/python3.7/site-packages/sklearn/utils/linear_assignment_.py:128: FutureWarning: The linear_assignment function is deprecated in 0.21 and will be removed from 0.23. Use scipy.optimize.linear_sum_assignment instead.\n",
      "  FutureWarning)\n",
      "/home/mohamedali/anaconda3/lib/python3.7/site-packages/coclust/coclustering/coclust_spec_mod.py:87: FutureWarning: 'warn_on_dtype' is deprecated in version 0.21 and will be removed in 0.23. Don't set `warn_on_dtype` to remove this warning.\n",
      "  warn_on_dtype=False, estimator=None)\n",
      "/home/mohamedali/anaconda3/lib/python3.7/site-packages/sklearn/utils/linear_assignment_.py:128: FutureWarning: The linear_assignment function is deprecated in 0.21 and will be removed from 0.23. Use scipy.optimize.linear_sum_assignment instead.\n",
      "  FutureWarning)\n"
     ]
    }
   ],
   "source": [
    "evaluation_list = execute_clustering_evaluation(data, true_labels, use_words_thresh=True, max_iteration=100)"
   ],
   "metadata": {
    "collapsed": false,
    "pycharm": {
     "name": "#%%\n"
    }
   }
  },
  {
   "cell_type": "code",
   "execution_count": null,
   "outputs": [],
   "source": [],
   "metadata": {
    "collapsed": false,
    "pycharm": {
     "name": "#%%\n"
    }
   }
  },
  {
   "cell_type": "markdown",
   "source": [
    "## 2- Word2Vec"
   ],
   "metadata": {
    "collapsed": false
   }
  },
  {
   "cell_type": "code",
   "execution_count": 9,
   "outputs": [],
   "source": [
    "text = data['text']\n",
    "#df to a list\n",
    "rows = text.apply(''.join).tolist()\n",
    "# list of words for each document\n",
    "words = []\n",
    "for sublist in rows:\n",
    "    w = sublist.split()\n",
    "    words.append(w)\n",
    "# list that regroups all the words\n",
    "words_flat = []\n",
    "for sublist in words:\n",
    "    for item in sublist:\n",
    "        words_flat.append(item)"
   ],
   "metadata": {
    "collapsed": false,
    "pycharm": {
     "name": "#%%\n"
    }
   }
  },
  {
   "cell_type": "code",
   "execution_count": 10,
   "outputs": [],
   "source": [
    "#remove duplicates\n",
    "def remove_duplicates(l):\n",
    "    return list(set(l))\n",
    "vocabulary = remove_duplicates(words_flat)"
   ],
   "metadata": {
    "collapsed": false,
    "pycharm": {
     "name": "#%%\n"
    }
   }
  },
  {
   "cell_type": "code",
   "execution_count": 11,
   "outputs": [
    {
     "ename": "ImportError",
     "evalue": "cannot import name 'open' from 'smart_open' (/home/mohamedali/anaconda3/lib/python3.7/site-packages/smart_open/__init__.py)",
     "output_type": "error",
     "traceback": [
      "\u001B[0;31m---------------------------------------------------------------------------\u001B[0m",
      "\u001B[0;31mImportError\u001B[0m                               Traceback (most recent call last)",
      "\u001B[0;32m<ipython-input-11-bc3d0782e9a9>\u001B[0m in \u001B[0;36m<module>\u001B[0;34m\u001B[0m\n\u001B[0;32m----> 1\u001B[0;31m \u001B[0;32mimport\u001B[0m \u001B[0mgensim\u001B[0m\u001B[0;34m,\u001B[0m \u001B[0mlogging\u001B[0m\u001B[0;34m\u001B[0m\u001B[0;34m\u001B[0m\u001B[0m\n\u001B[0m\u001B[1;32m      2\u001B[0m \u001B[0;31m# train word2vec on the two sentences\u001B[0m\u001B[0;34m\u001B[0m\u001B[0;34m\u001B[0m\u001B[0;34m\u001B[0m\u001B[0m\n\u001B[1;32m      3\u001B[0m \u001B[0mmodel\u001B[0m \u001B[0;34m=\u001B[0m \u001B[0mgensim\u001B[0m\u001B[0;34m.\u001B[0m\u001B[0mmodels\u001B[0m\u001B[0;34m.\u001B[0m\u001B[0mWord2Vec\u001B[0m\u001B[0;34m(\u001B[0m\u001B[0mwords\u001B[0m\u001B[0;34m,\u001B[0m \u001B[0mmin_count\u001B[0m\u001B[0;34m=\u001B[0m\u001B[0;36m1\u001B[0m\u001B[0;34m)\u001B[0m\u001B[0;34m\u001B[0m\u001B[0;34m\u001B[0m\u001B[0m\n\u001B[1;32m      4\u001B[0m \u001B[0;31m#model_pretrained = models.KeyedVectors.load_word2vec_format('models_word2vec/GoogleNews-vectors-negative300.bin.gz', binary=True,limit = 1000000)\u001B[0m\u001B[0;34m\u001B[0m\u001B[0;34m\u001B[0m\u001B[0;34m\u001B[0m\u001B[0m\n",
      "\u001B[0;32m~/anaconda3/lib/python3.7/site-packages/gensim/__init__.py\u001B[0m in \u001B[0;36m<module>\u001B[0;34m\u001B[0m\n\u001B[1;32m      3\u001B[0m \"\"\"\n\u001B[1;32m      4\u001B[0m \u001B[0;34m\u001B[0m\u001B[0m\n\u001B[0;32m----> 5\u001B[0;31m \u001B[0;32mfrom\u001B[0m \u001B[0mgensim\u001B[0m \u001B[0;32mimport\u001B[0m \u001B[0mparsing\u001B[0m\u001B[0;34m,\u001B[0m \u001B[0mcorpora\u001B[0m\u001B[0;34m,\u001B[0m \u001B[0mmatutils\u001B[0m\u001B[0;34m,\u001B[0m \u001B[0minterfaces\u001B[0m\u001B[0;34m,\u001B[0m \u001B[0mmodels\u001B[0m\u001B[0;34m,\u001B[0m \u001B[0msimilarities\u001B[0m\u001B[0;34m,\u001B[0m \u001B[0msummarization\u001B[0m\u001B[0;34m,\u001B[0m \u001B[0mutils\u001B[0m  \u001B[0;31m# noqa:F401\u001B[0m\u001B[0;34m\u001B[0m\u001B[0;34m\u001B[0m\u001B[0m\n\u001B[0m\u001B[1;32m      6\u001B[0m \u001B[0;32mimport\u001B[0m \u001B[0mlogging\u001B[0m\u001B[0;34m\u001B[0m\u001B[0;34m\u001B[0m\u001B[0m\n\u001B[1;32m      7\u001B[0m \u001B[0;34m\u001B[0m\u001B[0m\n",
      "\u001B[0;32m~/anaconda3/lib/python3.7/site-packages/gensim/parsing/__init__.py\u001B[0m in \u001B[0;36m<module>\u001B[0;34m\u001B[0m\n\u001B[1;32m      2\u001B[0m \u001B[0;34m\u001B[0m\u001B[0m\n\u001B[1;32m      3\u001B[0m \u001B[0;32mfrom\u001B[0m \u001B[0;34m.\u001B[0m\u001B[0mporter\u001B[0m \u001B[0;32mimport\u001B[0m \u001B[0mPorterStemmer\u001B[0m  \u001B[0;31m# noqa:F401\u001B[0m\u001B[0;34m\u001B[0m\u001B[0;34m\u001B[0m\u001B[0m\n\u001B[0;32m----> 4\u001B[0;31m from .preprocessing import (remove_stopwords, strip_punctuation, strip_punctuation2,  # noqa:F401\n\u001B[0m\u001B[1;32m      5\u001B[0m                             \u001B[0mstrip_tags\u001B[0m\u001B[0;34m,\u001B[0m \u001B[0mstrip_short\u001B[0m\u001B[0;34m,\u001B[0m \u001B[0mstrip_numeric\u001B[0m\u001B[0;34m,\u001B[0m\u001B[0;34m\u001B[0m\u001B[0;34m\u001B[0m\u001B[0m\n\u001B[1;32m      6\u001B[0m                             \u001B[0mstrip_non_alphanum\u001B[0m\u001B[0;34m,\u001B[0m \u001B[0mstrip_multiple_whitespaces\u001B[0m\u001B[0;34m,\u001B[0m\u001B[0;34m\u001B[0m\u001B[0;34m\u001B[0m\u001B[0m\n",
      "\u001B[0;32m~/anaconda3/lib/python3.7/site-packages/gensim/parsing/preprocessing.py\u001B[0m in \u001B[0;36m<module>\u001B[0;34m\u001B[0m\n\u001B[1;32m     40\u001B[0m \u001B[0;32mimport\u001B[0m \u001B[0mglob\u001B[0m\u001B[0;34m\u001B[0m\u001B[0;34m\u001B[0m\u001B[0m\n\u001B[1;32m     41\u001B[0m \u001B[0;34m\u001B[0m\u001B[0m\n\u001B[0;32m---> 42\u001B[0;31m \u001B[0;32mfrom\u001B[0m \u001B[0mgensim\u001B[0m \u001B[0;32mimport\u001B[0m \u001B[0mutils\u001B[0m\u001B[0;34m\u001B[0m\u001B[0;34m\u001B[0m\u001B[0m\n\u001B[0m\u001B[1;32m     43\u001B[0m \u001B[0;32mfrom\u001B[0m \u001B[0mgensim\u001B[0m\u001B[0;34m.\u001B[0m\u001B[0mparsing\u001B[0m\u001B[0;34m.\u001B[0m\u001B[0mporter\u001B[0m \u001B[0;32mimport\u001B[0m \u001B[0mPorterStemmer\u001B[0m\u001B[0;34m\u001B[0m\u001B[0;34m\u001B[0m\u001B[0m\n\u001B[1;32m     44\u001B[0m \u001B[0;34m\u001B[0m\u001B[0m\n",
      "\u001B[0;32m~/anaconda3/lib/python3.7/site-packages/gensim/utils.py\u001B[0m in \u001B[0;36m<module>\u001B[0;34m\u001B[0m\n\u001B[1;32m     43\u001B[0m \u001B[0;32mfrom\u001B[0m \u001B[0msix\u001B[0m\u001B[0;34m.\u001B[0m\u001B[0mmoves\u001B[0m \u001B[0;32mimport\u001B[0m \u001B[0mrange\u001B[0m\u001B[0;34m\u001B[0m\u001B[0;34m\u001B[0m\u001B[0m\n\u001B[1;32m     44\u001B[0m \u001B[0;34m\u001B[0m\u001B[0m\n\u001B[0;32m---> 45\u001B[0;31m \u001B[0;32mfrom\u001B[0m \u001B[0msmart_open\u001B[0m \u001B[0;32mimport\u001B[0m \u001B[0mopen\u001B[0m\u001B[0;34m\u001B[0m\u001B[0;34m\u001B[0m\u001B[0m\n\u001B[0m\u001B[1;32m     46\u001B[0m \u001B[0;34m\u001B[0m\u001B[0m\n\u001B[1;32m     47\u001B[0m \u001B[0;32mfrom\u001B[0m \u001B[0mmultiprocessing\u001B[0m \u001B[0;32mimport\u001B[0m \u001B[0mcpu_count\u001B[0m\u001B[0;34m\u001B[0m\u001B[0;34m\u001B[0m\u001B[0m\n",
      "\u001B[0;31mImportError\u001B[0m: cannot import name 'open' from 'smart_open' (/home/mohamedali/anaconda3/lib/python3.7/site-packages/smart_open/__init__.py)"
     ]
    }
   ],
   "source": [
    "import gensim, logging\n",
    "# train word2vec on the two sentences\n",
    "model = gensim.models.Word2Vec(words, min_count=1)\n",
    "#model_pretrained = models.KeyedVectors.load_word2vec_format('models_word2vec/GoogleNews-vectors-negative300.bin.gz', binary=True,limit = 1000000)"
   ],
   "metadata": {
    "collapsed": false,
    "pycharm": {
     "name": "#%%\n"
    }
   }
  },
  {
   "cell_type": "code",
   "execution_count": 40,
   "outputs": [],
   "source": [
    "import numpy\n",
    "from pandas import DataFrame\n",
    "\n",
    "df = DataFrame({'a':[1,.5,.3],'b':[.5,1,.4],'c':[.3,.4,1]},index=list('abc'))"
   ],
   "metadata": {
    "collapsed": false,
    "pycharm": {
     "name": "#%%\n"
    }
   }
  },
  {
   "cell_type": "code",
   "execution_count": null,
   "outputs": [],
   "source": [
    "print(df,'\\n')\n",
    "keep = np.triu((np.ones(sim_mat.shape), 1)).astype('bool').reshape(df.size)\n",
    "a = df.stack()[keep]\n",
    "print(df.stack()[keep])"
   ],
   "metadata": {
    "collapsed": false,
    "pycharm": {
     "name": "#%%\n"
    }
   }
  },
  {
   "cell_type": "code",
   "execution_count": 35,
   "outputs": [
    {
     "ename": "ValueError",
     "evalue": "Array conditional must be same shape as self",
     "output_type": "error",
     "traceback": [
      "\u001B[0;31m---------------------------------------------------------------------------\u001B[0m",
      "\u001B[0;31mValueError\u001B[0m                                Traceback (most recent call last)",
      "\u001B[0;32m<ipython-input-35-3b567a267bd8>\u001B[0m in \u001B[0;36m<module>\u001B[0;34m\u001B[0m\n\u001B[0;32m----> 1\u001B[0;31m \u001B[0mdf\u001B[0m\u001B[0;34m.\u001B[0m\u001B[0mwhere\u001B[0m\u001B[0;34m(\u001B[0m\u001B[0mnp\u001B[0m\u001B[0;34m.\u001B[0m\u001B[0mtril\u001B[0m\u001B[0;34m(\u001B[0m\u001B[0mnp\u001B[0m\u001B[0;34m.\u001B[0m\u001B[0mones\u001B[0m\u001B[0;34m(\u001B[0m\u001B[0ma\u001B[0m\u001B[0;34m.\u001B[0m\u001B[0mshape\u001B[0m\u001B[0;34m)\u001B[0m\u001B[0;34m,\u001B[0m \u001B[0;34m-\u001B[0m\u001B[0;36m1\u001B[0m\u001B[0;34m)\u001B[0m\u001B[0;34m.\u001B[0m\u001B[0mastype\u001B[0m\u001B[0;34m(\u001B[0m\u001B[0mbool\u001B[0m\u001B[0;34m)\u001B[0m\u001B[0;34m)\u001B[0m\u001B[0;34m.\u001B[0m\u001B[0mstack\u001B[0m\u001B[0;34m(\u001B[0m\u001B[0;34m)\u001B[0m\u001B[0;34m\u001B[0m\u001B[0;34m\u001B[0m\u001B[0m\n\u001B[0m",
      "\u001B[0;32m~/anaconda3/lib/python3.7/site-packages/pandas/core/generic.py\u001B[0m in \u001B[0;36mwhere\u001B[0;34m(self, cond, other, inplace, axis, level, errors, try_cast)\u001B[0m\n\u001B[1;32m   8917\u001B[0m         \u001B[0mother\u001B[0m \u001B[0;34m=\u001B[0m \u001B[0mcom\u001B[0m\u001B[0;34m.\u001B[0m\u001B[0mapply_if_callable\u001B[0m\u001B[0;34m(\u001B[0m\u001B[0mother\u001B[0m\u001B[0;34m,\u001B[0m \u001B[0mself\u001B[0m\u001B[0;34m)\u001B[0m\u001B[0;34m\u001B[0m\u001B[0;34m\u001B[0m\u001B[0m\n\u001B[1;32m   8918\u001B[0m         return self._where(\n\u001B[0;32m-> 8919\u001B[0;31m             \u001B[0mcond\u001B[0m\u001B[0;34m,\u001B[0m \u001B[0mother\u001B[0m\u001B[0;34m,\u001B[0m \u001B[0minplace\u001B[0m\u001B[0;34m,\u001B[0m \u001B[0maxis\u001B[0m\u001B[0;34m,\u001B[0m \u001B[0mlevel\u001B[0m\u001B[0;34m,\u001B[0m \u001B[0merrors\u001B[0m\u001B[0;34m=\u001B[0m\u001B[0merrors\u001B[0m\u001B[0;34m,\u001B[0m \u001B[0mtry_cast\u001B[0m\u001B[0;34m=\u001B[0m\u001B[0mtry_cast\u001B[0m\u001B[0;34m\u001B[0m\u001B[0;34m\u001B[0m\u001B[0m\n\u001B[0m\u001B[1;32m   8920\u001B[0m         )\n\u001B[1;32m   8921\u001B[0m \u001B[0;34m\u001B[0m\u001B[0m\n",
      "\u001B[0;32m~/anaconda3/lib/python3.7/site-packages/pandas/core/generic.py\u001B[0m in \u001B[0;36m_where\u001B[0;34m(self, cond, other, inplace, axis, level, errors, try_cast)\u001B[0m\n\u001B[1;32m   8659\u001B[0m                 \u001B[0mcond\u001B[0m \u001B[0;34m=\u001B[0m \u001B[0mnp\u001B[0m\u001B[0;34m.\u001B[0m\u001B[0masanyarray\u001B[0m\u001B[0;34m(\u001B[0m\u001B[0mcond\u001B[0m\u001B[0;34m)\u001B[0m\u001B[0;34m\u001B[0m\u001B[0;34m\u001B[0m\u001B[0m\n\u001B[1;32m   8660\u001B[0m             \u001B[0;32mif\u001B[0m \u001B[0mcond\u001B[0m\u001B[0;34m.\u001B[0m\u001B[0mshape\u001B[0m \u001B[0;34m!=\u001B[0m \u001B[0mself\u001B[0m\u001B[0;34m.\u001B[0m\u001B[0mshape\u001B[0m\u001B[0;34m:\u001B[0m\u001B[0;34m\u001B[0m\u001B[0;34m\u001B[0m\u001B[0m\n\u001B[0;32m-> 8661\u001B[0;31m                 \u001B[0;32mraise\u001B[0m \u001B[0mValueError\u001B[0m\u001B[0;34m(\u001B[0m\u001B[0;34m\"Array conditional must be same shape as self\"\u001B[0m\u001B[0;34m)\u001B[0m\u001B[0;34m\u001B[0m\u001B[0;34m\u001B[0m\u001B[0m\n\u001B[0m\u001B[1;32m   8662\u001B[0m             \u001B[0mcond\u001B[0m \u001B[0;34m=\u001B[0m \u001B[0mself\u001B[0m\u001B[0;34m.\u001B[0m\u001B[0m_constructor\u001B[0m\u001B[0;34m(\u001B[0m\u001B[0mcond\u001B[0m\u001B[0;34m,\u001B[0m \u001B[0;34m**\u001B[0m\u001B[0mself\u001B[0m\u001B[0;34m.\u001B[0m\u001B[0m_construct_axes_dict\u001B[0m\u001B[0;34m(\u001B[0m\u001B[0;34m)\u001B[0m\u001B[0;34m)\u001B[0m\u001B[0;34m\u001B[0m\u001B[0;34m\u001B[0m\u001B[0m\n\u001B[1;32m   8663\u001B[0m \u001B[0;34m\u001B[0m\u001B[0m\n",
      "\u001B[0;31mValueError\u001B[0m: Array conditional must be same shape as self"
     ]
    }
   ],
   "source": [
    "df.where(np.tril(np.ones(a.shape), -1).astype(bool)).stack()"
   ],
   "metadata": {
    "collapsed": false,
    "pycharm": {
     "name": "#%%\n"
    }
   }
  },
  {
   "cell_type": "code",
   "execution_count": 36,
   "outputs": [],
   "source": [
    "a = np.random.rand(3, 3)\n",
    "a = (a + a.T)/2\n",
    "np.fill_diagonal(a, 1.)\n",
    "a = pd.DataFrame(a)"
   ],
   "metadata": {
    "collapsed": false,
    "pycharm": {
     "name": "#%%\n"
    }
   }
  },
  {
   "cell_type": "code",
   "execution_count": 73,
   "outputs": [],
   "source": [
    "L=3\n",
    "hi = df.where(np.tril(np.ones(df.shape), -1).astype(bool)).stack().sort_values()\n",
    "di = hi[hi[:]<0.5][:L].to_dict()"
   ],
   "metadata": {
    "collapsed": false,
    "pycharm": {
     "name": "#%%\n"
    }
   }
  },
  {
   "cell_type": "code",
   "execution_count": 74,
   "outputs": [],
   "source": [
    "dictlist = []\n",
    "for key, value in di.items():\n",
    "    temp = [key,value]\n",
    "    dictlist.append(temp)"
   ],
   "metadata": {
    "collapsed": false,
    "pycharm": {
     "name": "#%%\n"
    }
   }
  },
  {
   "cell_type": "code",
   "execution_count": 75,
   "outputs": [
    {
     "data": {
      "text/plain": "[1, 2, [[('c', 'a'), 0.3], [('c', 'b'), 0.4]]]"
     },
     "execution_count": 75,
     "metadata": {},
     "output_type": "execute_result"
    }
   ],
   "source": [
    "[1, 2, dictlist]"
   ],
   "metadata": {
    "collapsed": false,
    "pycharm": {
     "name": "#%%\n"
    }
   }
  },
  {
   "cell_type": "code",
   "execution_count": 81,
   "outputs": [
    {
     "data": {
      "text/plain": "(('c', 'a'), 0.3)"
     },
     "execution_count": 81,
     "metadata": {},
     "output_type": "execute_result"
    }
   ],
   "source": [
    "list(di.items())"
   ],
   "metadata": {
    "collapsed": false,
    "pycharm": {
     "name": "#%%\n"
    }
   }
  }
 ],
 "metadata": {
  "kernelspec": {
   "display_name": "Python 3",
   "language": "python",
   "name": "python3"
  },
  "language_info": {
   "codemirror_mode": {
    "name": "ipython",
    "version": 2
   },
   "file_extension": ".py",
   "mimetype": "text/x-python",
   "name": "python",
   "nbconvert_exporter": "python",
   "pygments_lexer": "ipython2",
   "version": "2.7.6"
  }
 },
 "nbformat": 4,
 "nbformat_minor": 0
}